{
 "cells": [
  {
   "cell_type": "code",
   "execution_count": 1,
   "metadata": {},
   "outputs": [
    {
     "data": {
      "text/plain": [
       "'test.csv'"
      ]
     },
     "execution_count": 1,
     "metadata": {},
     "output_type": "execute_result"
    }
   ],
   "source": [
    "from PAMI.extras.generateDatabase import generateTransactionalDatabase as generate1\n",
    "#Nama: Joseph Christian\n",
    "#Kelas: C14200200\n",
    "\n",
    "file = generate1.generateTransactionalDatabase(numOfTransactions=50,maxNumOfDistinctItems=10,\n",
    "                                               numOfItemsPerTransaction=3,outFileName=\"test.csv\",sep='\\t')\n",
    "file.getFileName()"
   ]
  },
  {
   "cell_type": "code",
   "execution_count": 9,
   "metadata": {},
   "outputs": [],
   "source": [
    "from PAMI.extras.generateDatabase import generateTemporalDatabase as generate2\n",
    "\n",
    "file = generate2.generateTemporalDatabase(numOfTransactions=100, maxNumOfItems=20,maxNumOfItemsPerTransaction=5,\n",
    "                                          outputFile=\"test2.csv\",percentage=50,sep=\"\\t\",typeOfFile=\"Database\")\n",
    "#file.getFileName()\n",
    "file.createTemporalFile()\n",
    "#file.getDatabaseAsDataFrame()\n"
   ]
  }
 ],
 "metadata": {
  "kernelspec": {
   "display_name": "Python 3",
   "language": "python",
   "name": "python3"
  },
  "language_info": {
   "codemirror_mode": {
    "name": "ipython",
    "version": 3
   },
   "file_extension": ".py",
   "mimetype": "text/x-python",
   "name": "python",
   "nbconvert_exporter": "python",
   "pygments_lexer": "ipython3",
   "version": "3.10.11"
  },
  "orig_nbformat": 4
 },
 "nbformat": 4,
 "nbformat_minor": 2
}
