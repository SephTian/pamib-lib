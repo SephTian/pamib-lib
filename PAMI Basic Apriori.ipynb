{
 "cells": [
  {
   "cell_type": "code",
   "execution_count": 3,
   "metadata": {},
   "outputs": [],
   "source": [
    "from PAMI.frequentPattern.basic import Apriori  as alg\n",
    "import pandas as pd\n",
    "#Nama: Joseph Christian\n",
    "#Kelas: C14200200"
   ]
  },
  {
   "attachments": {},
   "cell_type": "markdown",
   "metadata": {},
   "source": [
    "File Initiation"
   ]
  },
  {
   "cell_type": "code",
   "execution_count": 4,
   "metadata": {},
   "outputs": [
    {
     "data": {
      "text/html": [
       "<div>\n",
       "<style scoped>\n",
       "    .dataframe tbody tr th:only-of-type {\n",
       "        vertical-align: middle;\n",
       "    }\n",
       "\n",
       "    .dataframe tbody tr th {\n",
       "        vertical-align: top;\n",
       "    }\n",
       "\n",
       "    .dataframe thead th {\n",
       "        text-align: right;\n",
       "    }\n",
       "</style>\n",
       "<table border=\"1\" class=\"dataframe\">\n",
       "  <thead>\n",
       "    <tr style=\"text-align: right;\">\n",
       "      <th></th>\n",
       "      <th>25\\t52\\t164\\t240\\t274\\t328\\t368\\t448\\t538\\t561\\t630\\t687\\t730\\t775\\t825\\t834</th>\n",
       "    </tr>\n",
       "  </thead>\n",
       "  <tbody>\n",
       "    <tr>\n",
       "      <th>0</th>\n",
       "      <td>39\\t120\\t124\\t205\\t401\\t581\\t704\\t814\\t825\\t834</td>\n",
       "    </tr>\n",
       "    <tr>\n",
       "      <th>1</th>\n",
       "      <td>35\\t249\\t674\\t712\\t733\\t759\\t854\\t950</td>\n",
       "    </tr>\n",
       "    <tr>\n",
       "      <th>2</th>\n",
       "      <td>39\\t422\\t449\\t704\\t825\\t857\\t895\\t937\\t954\\t964</td>\n",
       "    </tr>\n",
       "    <tr>\n",
       "      <th>3</th>\n",
       "      <td>15\\t229\\t262\\t283\\t294\\t352\\t381\\t708\\t738\\t76...</td>\n",
       "    </tr>\n",
       "    <tr>\n",
       "      <th>4</th>\n",
       "      <td>26\\t104\\t143\\t320\\t569\\t620\\t798</td>\n",
       "    </tr>\n",
       "    <tr>\n",
       "      <th>...</th>\n",
       "      <td>...</td>\n",
       "    </tr>\n",
       "    <tr>\n",
       "      <th>6251</th>\n",
       "      <td>177\\t214\\t354\\t579\\t648\\t745</td>\n",
       "    </tr>\n",
       "    <tr>\n",
       "      <th>6252</th>\n",
       "      <td>31\\t125\\t143\\t381\\t417\\t895\\t934</td>\n",
       "    </tr>\n",
       "    <tr>\n",
       "      <th>6253</th>\n",
       "      <td>277\\t793\\t914\\t984</td>\n",
       "    </tr>\n",
       "    <tr>\n",
       "      <th>6254</th>\n",
       "      <td>57\\t444\\t568\\t583\\t598\\t638\\t694\\t736\\t738\\t799</td>\n",
       "    </tr>\n",
       "    <tr>\n",
       "      <th>6255</th>\n",
       "      <td>33\\t177\\t274\\t489\\t573\\t740\\t792\\t883</td>\n",
       "    </tr>\n",
       "  </tbody>\n",
       "</table>\n",
       "<p>6256 rows × 1 columns</p>\n",
       "</div>"
      ],
      "text/plain": [
       "     25\\t52\\t164\\t240\\t274\\t328\\t368\\t448\\t538\\t561\\t630\\t687\\t730\\t775\\t825\\t834\n",
       "0       39\\t120\\t124\\t205\\t401\\t581\\t704\\t814\\t825\\t834                          \n",
       "1                 35\\t249\\t674\\t712\\t733\\t759\\t854\\t950                          \n",
       "2       39\\t422\\t449\\t704\\t825\\t857\\t895\\t937\\t954\\t964                          \n",
       "3     15\\t229\\t262\\t283\\t294\\t352\\t381\\t708\\t738\\t76...                          \n",
       "4                      26\\t104\\t143\\t320\\t569\\t620\\t798                          \n",
       "...                                                 ...                          \n",
       "6251                       177\\t214\\t354\\t579\\t648\\t745                          \n",
       "6252                   31\\t125\\t143\\t381\\t417\\t895\\t934                          \n",
       "6253                                 277\\t793\\t914\\t984                          \n",
       "6254    57\\t444\\t568\\t583\\t598\\t638\\t694\\t736\\t738\\t799                          \n",
       "6255              33\\t177\\t274\\t489\\t573\\t740\\t792\\t883                          \n",
       "\n",
       "[6256 rows x 1 columns]"
      ]
     },
     "execution_count": 4,
     "metadata": {},
     "output_type": "execute_result"
    }
   ],
   "source": [
    "inputFile = 'transactional_T10I4D100K.csv'\n",
    "df = pd.read_csv(inputFile)\n",
    "df"
   ]
  },
  {
   "attachments": {},
   "cell_type": "markdown",
   "metadata": {},
   "source": [
    "Execute Algorithm"
   ]
  },
  {
   "cell_type": "code",
   "execution_count": 5,
   "metadata": {},
   "outputs": [
    {
     "name": "stdout",
     "output_type": "stream",
     "text": [
      "Frequent patterns were generated successfully using Apriori algorithm \n"
     ]
    }
   ],
   "source": [
    "minimumSupportCount=100  #Users can also specify this constraint between 0 to 1.\n",
    "seperator='\\t'\n",
    "\n",
    "obj = alg.Apriori(iFile=inputFile, minSup=minimumSupportCount, sep=seperator)    #initialize\n",
    "obj.startMine()            #Start the mining process\n",
    "\n",
    "frequentPatternsDF= obj.getPatternsAsDataFrame()"
   ]
  },
  {
   "cell_type": "code",
   "execution_count": 6,
   "metadata": {},
   "outputs": [
    {
     "data": {
      "text/html": [
       "<div>\n",
       "<style scoped>\n",
       "    .dataframe tbody tr th:only-of-type {\n",
       "        vertical-align: middle;\n",
       "    }\n",
       "\n",
       "    .dataframe tbody tr th {\n",
       "        vertical-align: top;\n",
       "    }\n",
       "\n",
       "    .dataframe thead th {\n",
       "        text-align: right;\n",
       "    }\n",
       "</style>\n",
       "<table border=\"1\" class=\"dataframe\">\n",
       "  <thead>\n",
       "    <tr style=\"text-align: right;\">\n",
       "      <th></th>\n",
       "      <th>Patterns</th>\n",
       "      <th>Support</th>\n",
       "    </tr>\n",
       "  </thead>\n",
       "  <tbody>\n",
       "    <tr>\n",
       "      <th>0</th>\n",
       "      <td>274</td>\n",
       "      <td>165</td>\n",
       "    </tr>\n",
       "    <tr>\n",
       "      <th>1</th>\n",
       "      <td>368</td>\n",
       "      <td>485</td>\n",
       "    </tr>\n",
       "    <tr>\n",
       "      <th>2</th>\n",
       "      <td>538</td>\n",
       "      <td>248</td>\n",
       "    </tr>\n",
       "    <tr>\n",
       "      <th>3</th>\n",
       "      <td>561</td>\n",
       "      <td>177</td>\n",
       "    </tr>\n",
       "    <tr>\n",
       "      <th>4</th>\n",
       "      <td>775</td>\n",
       "      <td>221</td>\n",
       "    </tr>\n",
       "    <tr>\n",
       "      <th>...</th>\n",
       "      <td>...</td>\n",
       "      <td>...</td>\n",
       "    </tr>\n",
       "    <tr>\n",
       "      <th>168</th>\n",
       "      <td>\"75</td>\n",
       "      <td>100</td>\n",
       "    </tr>\n",
       "    <tr>\n",
       "      <th>169</th>\n",
       "      <td>826</td>\n",
       "      <td>132</td>\n",
       "    </tr>\n",
       "    <tr>\n",
       "      <th>170</th>\n",
       "      <td>661</td>\n",
       "      <td>162</td>\n",
       "    </tr>\n",
       "    <tr>\n",
       "      <th>171</th>\n",
       "      <td>634</td>\n",
       "      <td>146</td>\n",
       "    </tr>\n",
       "    <tr>\n",
       "      <th>172</th>\n",
       "      <td>450</td>\n",
       "      <td>119</td>\n",
       "    </tr>\n",
       "  </tbody>\n",
       "</table>\n",
       "<p>173 rows × 2 columns</p>\n",
       "</div>"
      ],
      "text/plain": [
       "    Patterns  Support\n",
       "0       274       165\n",
       "1       368       485\n",
       "2       538       248\n",
       "3       561       177\n",
       "4       775       221\n",
       "..       ...      ...\n",
       "168     \"75       100\n",
       "169     826       132\n",
       "170     661       162\n",
       "171     634       146\n",
       "172     450       119\n",
       "\n",
       "[173 rows x 2 columns]"
      ]
     },
     "execution_count": 6,
     "metadata": {},
     "output_type": "execute_result"
    }
   ],
   "source": [
    "frequentPatternsDF"
   ]
  },
  {
   "cell_type": "code",
   "execution_count": 7,
   "metadata": {},
   "outputs": [
    {
     "name": "stdout",
     "output_type": "stream",
     "text": [
      "Total No of patterns: 173\n",
      "Runtime: 7.2695465087890625\n",
      "Memory (RSS): 127000576\n",
      "Memory (USS): 94187520\n"
     ]
    }
   ],
   "source": [
    "print('Total No of patterns: ' + str(len(frequentPatternsDF)))\n",
    "print('Runtime: ' + str(obj.getRuntime()))\n",
    "print('Memory (RSS): ' + str(obj.getMemoryRSS()))\n",
    "print('Memory (USS): ' + str(obj.getMemoryUSS()))\n"
   ]
  },
  {
   "cell_type": "code",
   "execution_count": 8,
   "metadata": {},
   "outputs": [
    {
     "name": "stdout",
     "output_type": "stream",
     "text": [
      "Total number of Frequent Patterns: 173\n",
      "Total Memory in USS: 94187520\n",
      "Total Memory in RSS 127000576\n",
      "Total ExecutionTime in ms: 7.2695465087890625\n"
     ]
    }
   ],
   "source": [
    "obj.printResults()"
   ]
  }
 ],
 "metadata": {
  "kernelspec": {
   "display_name": "Python 3",
   "language": "python",
   "name": "python3"
  },
  "language_info": {
   "codemirror_mode": {
    "name": "ipython",
    "version": 3
   },
   "file_extension": ".py",
   "mimetype": "text/x-python",
   "name": "python",
   "nbconvert_exporter": "python",
   "pygments_lexer": "ipython3",
   "version": "3.10.11"
  },
  "orig_nbformat": 4
 },
 "nbformat": 4,
 "nbformat_minor": 2
}
